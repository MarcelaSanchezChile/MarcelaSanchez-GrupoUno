{
  "nbformat": 4,
  "nbformat_minor": 0,
  "metadata": {
    "colab": {
      "provenance": [],
      "authorship_tag": "ABX9TyNLy2KgryhWIXDxpOvaoyn1",
      "include_colab_link": true
    },
    "kernelspec": {
      "name": "python3",
      "display_name": "Python 3"
    },
    "language_info": {
      "name": "python"
    }
  },
  "cells": [
    {
      "cell_type": "markdown",
      "metadata": {
        "id": "view-in-github",
        "colab_type": "text"
      },
      "source": [
        "<a href=\"https://colab.research.google.com/github/MarcelaSanchezChile/MarcelaSanchez-GrupoUno/blob/main/Innova_Clase3.ipynb\" target=\"_parent\"><img src=\"https://colab.research.google.com/assets/colab-badge.svg\" alt=\"Open In Colab\"/></a>"
      ]
    },
    {
      "cell_type": "code",
      "execution_count": null,
      "metadata": {
        "id": "uFfImckXHwF1"
      },
      "outputs": [],
      "source": []
    },
    {
      "cell_type": "markdown",
      "source": [],
      "metadata": {
        "id": "-FxjbjSlHyhW"
      }
    },
    {
      "cell_type": "markdown",
      "source": [
        "Git y Github\n",
        "\n",
        "¿Qué es GitHub?\n",
        "\n",
        "Es una plataforma en la nube donde puedes guardar, compartir y colaborar en proyectos de programación.\n",
        "\n",
        "Funciona como un “Google Drive para programadores”, pero con superpoderes: control de versiones, trabajo en equipo y publicación de proyectos.\n",
        "\n",
        "Mini-Glosario GitHub:\n",
        "\n",
        "\n",
        "##Repositorio (Repo)##\n",
        "\n",
        "Es como una carpeta en la nube donde guardas tu proyecto. Contiene código, imágenes, notas, etc.Piensa en él como tu “cajita de proyecto” en GitHub.\n",
        "\n",
        "##Commit##\n",
        "\n",
        "Es un guardado con mensaje.Ejemplo: “Commit: agregué el gráfico de seno”.\n",
        "Te ayuda a recordar qué cambios hiciste.\n",
        "\n",
        "##Push\n",
        "\n",
        "Significa subir tus cambios desde tu computador (o Colab) a GitHub.\"Empujar los cambios a la nube\".\n",
        "\n",
        "##Pull\n",
        "\n",
        "Significa descargar los cambios desde GitHub a tu computador.\"Jalar lo que hay en la nube a tu máquina\".\n",
        "\n",
        "##Branch (Rama)\n",
        "\n",
        "Es como una copia paralela de tu proyecto.Te permite probar nuevas ideas sin romper el código principal. Luego puedes fusionarla (merge) con la rama principal (main).\n",
        "\n",
        "\n",
        "##Colaboración##\n",
        "\n",
        "Puedes invitar a compañeros a tu repo.Cada uno trabaja en su rama, y luego unen todo. GitHub es muy usado en equipos de programación.\n",
        "\n",
        "##README.md\n",
        "\n",
        "Es un archivo escrito en Markdown donde explicas tu proyecto. Ejemplo: qué hace, cómo usarlo, quién lo hizo. Es como la presentación de tu repo."
      ],
      "metadata": {
        "id": "zpRcbq2sH4hl"
      }
    }
  ]
}